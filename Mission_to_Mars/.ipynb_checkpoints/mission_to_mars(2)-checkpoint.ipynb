{
 "cells": [
  {
   "cell_type": "code",
   "execution_count": null,
   "metadata": {},
   "outputs": [],
   "source": [
    "from bs4 import BeautifulSoup\n",
    "from splinter import Browser\n",
    "import pymongo\n",
    "import pandas as pd\n",
    "import requests\n",
    "import time"
   ]
  },
  {
   "cell_type": "code",
   "execution_count": null,
   "metadata": {},
   "outputs": [],
   "source": [
    "executable_path = {'executable_path': '/usr/local/bin/chromedriver'}\n",
    "browser = Browser('chrome', **executable_path, headless=False)"
   ]
  },
  {
   "cell_type": "code",
   "execution_count": null,
   "metadata": {},
   "outputs": [],
   "source": [
    "#News\n",
    "url = \"https://mars.nasa.gov/news/\"\n",
    "browser.visit(url)\n",
    "time.sleep(2)\n",
    "soup = BeautifulSoup(browser.html, 'html.parser')\n",
    "titles = soup.find(\"ul\",class_='item_list')\n",
    "newstitle = []\n",
    "for ul in titles:\n",
    "    for a in titles.findAll('a'):\n",
    "        newstitle.append(a.text)\n",
    "news_title = newstitle[1]\n",
    "news_paragraph = soup.find(\"div\", class_=\"article_teaser_body\").text\n",
    "# print(f'title:{news_title} paragraph:{news_paragraph}')"
   ]
  },
  {
   "cell_type": "code",
   "execution_count": null,
   "metadata": {},
   "outputs": [],
   "source": [
    "#Images\n",
    "url_image = \"https://www.jpl.nasa.gov/spaceimages/?search=&category=Mars\"\n",
    "browser.visit(url_image)\n",
    "browser.find_by_id('full_image').click()\n",
    "featured_image_url = browser.find_by_css('.fancybox-image').first['src']\n",
    "# featured_image_url"
   ]
  },
  {
   "cell_type": "code",
   "execution_count": null,
   "metadata": {},
   "outputs": [],
   "source": [
    "#Weather\n",
    "url_weather = \"https://twitter.com/marswxreport?lang=en\"\n",
    "browser.visit(url_weather)\n",
    "time.sleep(2)\n",
    "soup = BeautifulSoup(browser.html,\"html.parser\")\n",
    "article = soup.findAll('article')\n",
    "weather = article[1].findAll('span', class_=\"css-901oao css-16my406 r-1qd0xha r-ad9z0x r-bcqeeo r-qvutc0\")[4].text"
   ]
  },
  {
   "cell_type": "code",
   "execution_count": null,
   "metadata": {},
   "outputs": [],
   "source": [
    "#Facts\n",
    "url_facts = \"https://space-facts.com/mars/\"\n",
    "df_facts = pd.read_html(url_facts)[0]\n",
    "df_facts.columns = [\"Facts\",\"Values\"]\n",
    "clean_table = df_facts.set_index([\"Facts\"])\n",
    "mars_table = clean_table.to_html()\n",
    "facts = mars_table.replace(\"\\n\", \"\")"
   ]
  },
  {
   "cell_type": "code",
   "execution_count": null,
   "metadata": {},
   "outputs": [],
   "source": [
    "#Hemis_urls\n",
    "url_hemi = 'https://astrogeology.usgs.gov/search/results?q=hemisphere+enhanced&k1=target&v1=Mars'\n",
    "browser.visit(url_hemi)\n",
    "time.sleep(3)\n",
    "soup3 = BeautifulSoup(browser.html, 'html.parser')\n",
    "results = soup3.find('div', class_='collapsible results')\n",
    "hemis=results.find_all('a')\n",
    "hemis_urls=[]\n",
    "for hemi in hemis:\n",
    "    if hemi.h3:\n",
    "        title = hemi.h3.text\n",
    "        next_ = hemi[\"href\"]\n",
    "        browser.visit(\"https://astrogeology.usgs.gov/\" + next_)\n",
    "        time.sleep(3)\n",
    "        soup = BeautifulSoup(browser.html, 'html.parser')\n",
    "        hemisphere2 = soup.find(\"div\",class_= \"downloads\")\n",
    "        img=hemisphere2.ul.a[\"href\"]\n",
    "        hemisphere_dict={}\n",
    "        hemisphere_dict['title']=title\n",
    "        hemisphere_dict[\"image_url\"]=img\n",
    "        hemis_urls.append(hemisphere_dict)"
   ]
  },
  {
   "cell_type": "code",
   "execution_count": null,
   "metadata": {},
   "outputs": [],
   "source": [
    "print(f'{news_title}{news_paragraph}{weather}{facts}{hemis_urls}')"
   ]
  },
  {
   "cell_type": "code",
   "execution_count": null,
   "metadata": {},
   "outputs": [],
   "source": [
    "# Setup connection to mongodb\n",
    "conn = \"mongodb://localhost:27017\"\n",
    "client = pymongo.MongoClient(conn)\n",
    "\n",
    "# Select database and collection to use\n",
    "db = client.mars\n",
    "mars_data = db.mars_data\n",
    "\n",
    "mars_data.insert({\n",
    "    \"news_title\": news_title,\n",
    "    \"news_paragraph\": news_paragraph,\n",
    "    \"featured_image_url\": featured_image_url,\n",
    "    \"weather\": weather,\n",
    "    \"facts\": facts,\n",
    "    \"hemi_urls\": hemis_urls\n",
    "})\n"
   ]
  },
  {
   "cell_type": "code",
   "execution_count": null,
   "metadata": {},
   "outputs": [],
   "source": []
  },
  {
   "cell_type": "code",
   "execution_count": null,
   "metadata": {},
   "outputs": [],
   "source": []
  }
 ],
 "metadata": {
  "kernelspec": {
   "display_name": "Python 3",
   "language": "python",
   "name": "python3"
  },
  "language_info": {
   "codemirror_mode": {
    "name": "ipython",
    "version": 3
   },
   "file_extension": ".py",
   "mimetype": "text/x-python",
   "name": "python",
   "nbconvert_exporter": "python",
   "pygments_lexer": "ipython3",
   "version": "3.7.4"
  }
 },
 "nbformat": 4,
 "nbformat_minor": 2
}
